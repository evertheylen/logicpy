{
 "cells": [
  {
   "cell_type": "code",
   "execution_count": 1,
   "metadata": {},
   "outputs": [],
   "source": [
    "%load_ext autoreload\n",
    "%autoreload 2"
   ]
  },
  {
   "cell_type": "code",
   "execution_count": 1,
   "metadata": {},
   "outputs": [],
   "source": [
    "from logicpy import *\n",
    "from logicpy.core import *\n",
    "from logicpy.builtin import *\n",
    "from logicpy.predicate import *\n",
    "from logicpy.data import *\n",
    "a = _"
   ]
  },
  {
   "cell_type": "code",
   "execution_count": 2,
   "metadata": {},
   "outputs": [
    {
     "name": "stdout",
     "output_type": "stream",
     "text": [
      "-> PredicateCall bla(Z:996) with ok\n",
      "   -> Clause bla/1 with ok\n",
      "substitute Z:996 -> X:316\n",
      "replaced_E = set(), True\n",
      "      -> Eval (X:316 << 5) with {Z:996 = X:316}\n",
      "         -> Eval (X:316 << 5) with {X:316 = 5, Z:996 = X:316}\n",
      "            -> DoMgu DoMgu with {X:316 = 5, Z:996 = X:316}\n",
      "substitute Z:996 -> X:316\n",
      "replaced_E = {(Variable('X', 6942119964251049147), 5)}, True\n",
      "substitute X:316 -> 5\n",
      "replaced_E = {(Variable('Z', -1), Variable('X', 6942119964251049147))}, True\n",
      "            <- DoMgu DoMgu with {X:316 = 5, Z:996 = X:316}\n",
      "substitute Z:996 -> X:316\n",
      "replaced_E = {(Variable('X', 6942119964251049147), 5)}, True\n",
      "substitute X:316 -> 5\n",
      "replaced_E = {(Variable('Z', -1), Variable('X', 6942119964251049147))}, True\n"
     ]
    },
    {
     "data": {
      "text/plain": [
       "[{'Z': Variable('X', 6942119964251049147)}]"
      ]
     },
     "execution_count": 2,
     "metadata": {},
     "output_type": "execute_result"
    }
   ],
   "source": [
    "u, n = Universe().and_namespace()\n",
    "\n",
    "n.bla[a.X] = a.X << 5\n",
    "#n.bla[a.bar] = True\n",
    "#n.bla[a.both(a.X, a.Y)] = n.bla(a.X) & n.bla(a.Y)\n",
    "\n",
    "#[res for res, _ in zip(u.query(n.bla(a.Z)), range(3))]\n",
    "u.simple_query(n.bla(a.Z), debug=True)"
   ]
  },
  {
   "cell_type": "code",
   "execution_count": 12,
   "metadata": {},
   "outputs": [
    {
     "data": {
      "text/plain": [
       "Variable('X', 7)"
      ]
     },
     "execution_count": 12,
     "metadata": {},
     "output_type": "execute_result"
    }
   ],
   "source": [
    "Z = Variable('Z', 5)\n",
    "X = Variable('X', 7)\n",
    "replace(X, X, 5)"
   ]
  },
  {
   "cell_type": "code",
   "execution_count": null,
   "metadata": {
    "collapsed": true
   },
   "outputs": [],
   "source": []
  }
 ],
 "metadata": {
  "kernelspec": {
   "display_name": "Python 3",
   "language": "python",
   "name": "python3"
  },
  "language_info": {
   "codemirror_mode": {
    "name": "ipython",
    "version": 3
   },
   "file_extension": ".py",
   "mimetype": "text/x-python",
   "name": "python",
   "nbconvert_exporter": "python",
   "pygments_lexer": "ipython3",
   "version": "3.6.2"
  }
 },
 "nbformat": 4,
 "nbformat_minor": 2
}
