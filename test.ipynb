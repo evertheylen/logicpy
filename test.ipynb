{
 "cells": [
  {
   "cell_type": "code",
   "execution_count": 1,
   "metadata": {},
   "outputs": [],
   "source": [
    "%load_ext autoreload\n",
    "%autoreload 2"
   ]
  },
  {
   "cell_type": "code",
   "execution_count": 2,
   "metadata": {
    "collapsed": true
   },
   "outputs": [],
   "source": [
    "from logicpy import *\n",
    "from logicpy.builtin import *\n",
    "from logicpy.predicate import *\n",
    "from logicpy.data import *\n",
    "a = _"
   ]
  },
  {
   "cell_type": "code",
   "execution_count": 16,
   "metadata": {
    "scrolled": false
   },
   "outputs": [
    {
     "name": "stdout",
     "output_type": "stream",
     "text": [
      "==> proving PredicateCall (sum(next(next(zero)), zero, X)) with ok\n",
      "    ==> proving or_ (((($0 == zero) & ($1 == X) & ($2 == X...) with {$0 = next(next(zero)), $1 = zero, $2 = X}\n",
      "        ==> proving and_ ((($0 == zero) & ($1 == X) & ($2 == X)...) with {$0 = next(next(zero)), $1 = zero, $2 = X}\n",
      "            ==> proving unify (($0 == zero)) with {$0 = next(next(zero)), $1 = zero, $2 = X}\n",
      "            ==> proving DoMgu (DoMgu) with {$0 = next(next(zero)), $1 = zero, $2 = X, $0 = zero}\n",
      "                MM failed: Conflict next(next(zero)), zero\n",
      "        ==> proving and_ ((($0 == next(X)) & ($1 == Y) & ($2 ==...) with {$0 = next(next(zero)), $1 = zero, $2 = X}\n",
      "            ==> proving unify (($0 == next(X))) with {$0 = next(next(zero)), $1 = zero, $2 = X}\n",
      "            ==> proving DoMgu (DoMgu) with {$0 = next(next(zero)), $1 = zero, $2 = X, $0 = next(X)}\n",
      "            <== proven DoMgu (DoMgu) with {$0 = next(next(zero)), $1 = zero, $2 = X, $0 = next(X)}\n",
      "            ==> proving unify (($1 == Y)) with {$0 = next(next(zero)), $1 = zero, $2 = X, X = next(zero)}\n",
      "            ==> proving DoMgu (DoMgu) with {$0 = next(next(zero)), X = next(zero), $1 = zero, $2 = X, $1 = Y}\n",
      "            <== proven DoMgu (DoMgu) with {$0 = next(next(zero)), X = next(zero), $1 = zero, $2 = X, $1 = Y}\n",
      "            ==> proving unify (($2 == Z)) with {$0 = next(next(zero)), X = next(zero), Y = zero, $1 = zero, $2 = X}\n",
      "            ==> proving DoMgu (DoMgu) with {$0 = next(next(zero)), $2 = Z, X = next(zero), Y = zero, $1 = zero, $2 = X}\n",
      "            <== proven DoMgu (DoMgu) with {$0 = next(next(zero)), $2 = Z, X = next(zero), Y = zero, $1 = zero, $2 = X}\n",
      "            ==> proving PredicateCall (sum(X, next(Y), Z)) with {$0 = next(next(zero)), Z = X, X = next(zero), Y = zero, $1 = zero, $2 = X}\n",
      "                ==> proving or_ (((($0 == zero) & ($1 == X) & ($2 == X...) with {$0 = next(next(zero)), $1 = next(Y), X = next(zero), Y = zero, $2 = X, $2 = Z, Z = X, $1 = zero, $0 = X}\n",
      "                    ==> proving and_ ((($0 == zero) & ($1 == X) & ($2 == X)...) with {$0 = next(next(zero)), $1 = next(Y), X = next(zero), Y = zero, $2 = X, $2 = Z, Z = X, $1 = zero, $0 = X}\n",
      "                        ==> proving unify (($0 == zero)) with {$0 = next(next(zero)), $1 = next(Y), X = next(zero), Y = zero, $2 = X, $2 = Z, Z = X, $1 = zero, $0 = X}\n",
      "                        ==> proving DoMgu (DoMgu) with {$0 = next(next(zero)), $1 = next(Y), X = next(zero), Y = zero, $2 = X, $2 = Z, Z = X, $0 = zero, $1 = zero, $0 = X}\n",
      "                            MM failed: Conflict next(zero), zero\n",
      "                    ==> proving and_ ((($0 == next(X)) & ($1 == Y) & ($2 ==...) with {$0 = next(next(zero)), $1 = next(Y), X = next(zero), Y = zero, $2 = X, $2 = Z, Z = X, $1 = zero, $0 = X}\n",
      "                        ==> proving unify (($0 == next(X))) with {$0 = next(next(zero)), $1 = next(Y), X = next(zero), Y = zero, $2 = X, $2 = Z, Z = X, $1 = zero, $0 = X}\n",
      "                        ==> proving DoMgu (DoMgu) with {$0 = next(next(zero)), $1 = next(Y), X = next(zero), Y = zero, $0 = next(X), $2 = X, $2 = Z, Z = X, $1 = zero, $0 = X}\n",
      "                            MM failed: Conflict next(zero), zero\n",
      "\n"
     ]
    }
   ],
   "source": [
    "u, n = Universe().and_namespace()\n",
    "\n",
    "n.sum[a.zero, a.X, a.X] = True\n",
    "n.sum[a.next(a.X), a.Y, a.Z] = n.sum(a.X, a.next(a.Y), a.Z)\n",
    "\n",
    "def peano(x):\n",
    "    if x == 0: return a.zero\n",
    "    return a.next(peano(x-1))\n",
    "\n",
    "def inv_peano(x):\n",
    "    if x == a.zero: return 0\n",
    "    return 1+inv_peano(x.children[0])\n",
    "    \n",
    "\n",
    "results = u.simple_query(n.sum(peano(2), peano(0), a.X), debug=True)\n",
    "print(\"\\n\".join(results))"
   ]
  },
  {
   "cell_type": "code",
   "execution_count": 4,
   "metadata": {},
   "outputs": [
    {
     "name": "stdout",
     "output_type": "stream",
     "text": [
      "? quit\n",
      "Not a provable structure: quit\n",
      "? quit.\n"
     ]
    },
    {
     "ename": "SyntaxError",
     "evalue": "unexpected EOF while parsing (<string>, line 1)",
     "output_type": "error",
     "traceback": [
      "\u001b[0;36m  File \u001b[0;32m\"<string>\"\u001b[0;36m, line \u001b[0;32m1\u001b[0m\n\u001b[0;31m    quit.\u001b[0m\n\u001b[0m        ^\u001b[0m\n\u001b[0;31mSyntaxError\u001b[0m\u001b[0;31m:\u001b[0m unexpected EOF while parsing\n"
     ]
    }
   ],
   "source": [
    "u.interactive()"
   ]
  },
  {
   "cell_type": "code",
   "execution_count": null,
   "metadata": {
    "collapsed": true
   },
   "outputs": [],
   "source": []
  }
 ],
 "metadata": {
  "kernelspec": {
   "display_name": "Python 3",
   "language": "python",
   "name": "python3"
  },
  "language_info": {
   "codemirror_mode": {
    "name": "ipython",
    "version": 3
   },
   "file_extension": ".py",
   "mimetype": "text/x-python",
   "name": "python",
   "nbconvert_exporter": "python",
   "pygments_lexer": "ipython3",
   "version": "3.6.2"
  }
 },
 "nbformat": 4,
 "nbformat_minor": 2
}
