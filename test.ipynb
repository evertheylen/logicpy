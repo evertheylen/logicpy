{
 "cells": [
  {
   "cell_type": "code",
   "execution_count": 1,
   "metadata": {
    "collapsed": true
   },
   "outputs": [],
   "source": [
    "%load_ext autoreload\n",
    "%autoreload 2"
   ]
  },
  {
   "cell_type": "code",
   "execution_count": 2,
   "metadata": {},
   "outputs": [],
   "source": [
    "from logicpy import *\n",
    "from logicpy.core import *\n",
    "from logicpy.builtin import *\n",
    "from logicpy.predicate import *\n",
    "from logicpy.data import *\n",
    "a = _\n",
    "\n",
    "import time"
   ]
  },
  {
   "cell_type": "code",
   "execution_count": 3,
   "metadata": {
    "scrolled": true
   },
   "outputs": [
    {
     "name": "stdout",
     "output_type": "stream",
     "text": [
      "took 5.831412315368652\n"
     ]
    }
   ],
   "source": [
    "u, n = Universe().and_namespace()\n",
    "\n",
    "n.fib[0, 1] = True\n",
    "n.fib[1, 2] = True\n",
    "n.fib[a.N, a.Res] = and_(\n",
    "    a.N > 1,\n",
    "    a.N1 << a.N - 1,\n",
    "    a.N2 << a.N - 2,\n",
    "    n.fib(a.N1, a.Res1),\n",
    "    n.fib(a.N2, a.Res2),\n",
    "    a.Res << a.Res1 + a.Res2)\n",
    "\n",
    "start = time.time()\n",
    "assert u.simple_query(n.fib(7, a.X))[0]['X'] == 34\n",
    "print(f\"took {time.time() - start}\")"
   ]
  },
  {
   "cell_type": "code",
   "execution_count": null,
   "metadata": {
    "collapsed": true
   },
   "outputs": [],
   "source": []
  }
 ],
 "metadata": {
  "kernelspec": {
   "display_name": "Python 3",
   "language": "python",
   "name": "python3"
  },
  "language_info": {
   "codemirror_mode": {
    "name": "ipython",
    "version": 3
   },
   "file_extension": ".py",
   "mimetype": "text/x-python",
   "name": "python",
   "nbconvert_exporter": "python",
   "pygments_lexer": "ipython3",
   "version": "3.6.2"
  }
 },
 "nbformat": 4,
 "nbformat_minor": 2
}
