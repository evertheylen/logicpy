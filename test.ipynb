{
 "cells": [
  {
   "cell_type": "code",
   "execution_count": 5,
   "metadata": {},
   "outputs": [
    {
     "name": "stdout",
     "output_type": "stream",
     "text": [
      "The autoreload extension is already loaded. To reload it, use:\n",
      "  %reload_ext autoreload\n"
     ]
    }
   ],
   "source": [
    "%load_ext autoreload\n",
    "%autoreload 2"
   ]
  },
  {
   "cell_type": "code",
   "execution_count": 6,
   "metadata": {},
   "outputs": [],
   "source": [
    "from logicpy import *\n",
    "from logicpy.core import *\n",
    "from logicpy.builtin import *\n",
    "from logicpy.predicate import *\n",
    "from logicpy.data import *\n",
    "a = _"
   ]
  },
  {
   "cell_type": "code",
   "execution_count": 9,
   "metadata": {},
   "outputs": [
    {
     "data": {
      "text/plain": [
       "[]"
      ]
     },
     "execution_count": 9,
     "metadata": {},
     "output_type": "execute_result"
    }
   ],
   "source": [
    "u, n = Universe().and_namespace()\n",
    "\n",
    "n.bla[a.foo] = True\n",
    "n.bla[a.bar] = True\n",
    "n.bla[a.both(a.X, a.Y)] = n.bla(a.X) & n.bla(a.Y)\n",
    "\n",
    "#[res for res, _ in zip(u.query(n.bla(a.Z)), range(3))]\n",
    "u.simple_query(n.bla(a.Z))"
   ]
  },
  {
   "cell_type": "code",
   "execution_count": 10,
   "metadata": {},
   "outputs": [
    {
     "name": "stderr",
     "output_type": "stream",
     "text": [
      "[autoreload of logicpy.data failed: Traceback (most recent call last):\n",
      "  File \"/usr/lib/python3.6/site-packages/IPython/extensions/autoreload.py\", line 247, in check\n",
      "    superreload(m, reload, self.old_objects)\n",
      "ValueError: __init__() requires a code object with 0 free vars, not 1\n",
      "]\n"
     ]
    }
   ],
   "source": [
    "u, n = Universe().and_namespace()\n",
    "\n",
    "n.test[a.foo(a.X), a.Y] = n.test(a.X, a.Y)\n",
    "n.test[a.bar, a.bar] = True\n",
    "\n",
    "e = n.test(a.foo(a.bar), a.Z)\n",
    "#u.simple_query(e, debug=True)"
   ]
  },
  {
   "cell_type": "code",
   "execution_count": 5,
   "metadata": {
    "scrolled": false
   },
   "outputs": [
    {
     "data": {
      "text/plain": [
       "12"
      ]
     },
     "execution_count": 5,
     "metadata": {},
     "output_type": "execute_result"
    }
   ],
   "source": [
    "u, n = Universe().and_namespace()\n",
    "\n",
    "n.sum[a.zero, a.X, a.X] = True\n",
    "n.sum[a.next(a.X), a.Y, a.Z] = n.sum(a.X, a.next(a.Y), a.Z)\n",
    "\n",
    "def peano(x):\n",
    "    if x == 0: return a.zero\n",
    "    return a.next(peano(x-1))\n",
    "\n",
    "def inv_peano(x):\n",
    "    if x == a.zero: return 0\n",
    "    return 1+inv_peano(x.children[0])\n",
    "    \n",
    "\n",
    "inv_peano(u.simple_query(n.sum(peano(7), peano(5), a.X))[0]['X'])"
   ]
  },
  {
   "cell_type": "code",
   "execution_count": 5,
   "metadata": {},
   "outputs": [
    {
     "data": {
      "text/plain": [
       "(False,\n",
       " False,\n",
       " Eval(Variable('Z'), Compound('+', (Variable('X'), Variable('Y')))))"
      ]
     },
     "execution_count": 5,
     "metadata": {},
     "output_type": "execute_result"
    }
   ],
   "source": [
    "u, n = Universe().and_namespace()\n",
    "_ = Underscore()\n",
    "\n",
    "(, _.Y == 8, _.Z << _.X + _.Y)"
   ]
  },
  {
   "cell_type": "code",
   "execution_count": 4,
   "metadata": {},
   "outputs": [
    {
     "name": "stdout",
     "output_type": "stream",
     "text": [
      "? quit\n",
      "Not a provable structure: quit\n",
      "? quit.\n"
     ]
    },
    {
     "ename": "SyntaxError",
     "evalue": "unexpected EOF while parsing (<string>, line 1)",
     "output_type": "error",
     "traceback": [
      "\u001b[0;36m  File \u001b[0;32m\"<string>\"\u001b[0;36m, line \u001b[0;32m1\u001b[0m\n\u001b[0;31m    quit.\u001b[0m\n\u001b[0m        ^\u001b[0m\n\u001b[0;31mSyntaxError\u001b[0m\u001b[0;31m:\u001b[0m unexpected EOF while parsing\n"
     ]
    }
   ],
   "source": [
    "u.interactive()"
   ]
  },
  {
   "cell_type": "code",
   "execution_count": 12,
   "metadata": {},
   "outputs": [
    {
     "data": {
      "text/plain": [
       "True"
      ]
     },
     "execution_count": 12,
     "metadata": {},
     "output_type": "execute_result"
    }
   ],
   "source": [
    "_ = Underscore()\n",
    "c = _.foo(_.X, _.Y).with_scope(2)\n",
    "d = _.foo(_.X, _.Y).with_scope(2)\n",
    "c == d"
   ]
  },
  {
   "cell_type": "code",
   "execution_count": null,
   "metadata": {
    "collapsed": true
   },
   "outputs": [],
   "source": []
  }
 ],
 "metadata": {
  "kernelspec": {
   "display_name": "Python 3",
   "language": "python",
   "name": "python3"
  },
  "language_info": {
   "codemirror_mode": {
    "name": "ipython",
    "version": 3
   },
   "file_extension": ".py",
   "mimetype": "text/x-python",
   "name": "python",
   "nbconvert_exporter": "python",
   "pygments_lexer": "ipython3",
   "version": "3.6.2"
  }
 },
 "nbformat": 4,
 "nbformat_minor": 2
}
